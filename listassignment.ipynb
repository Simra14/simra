{
 "cells": [
  {
   "cell_type": "markdown",
   "id": "020b7ac0-138a-44a5-9f4a-40d62abdb6bc",
   "metadata": {},
   "source": [
    "### Q 1 Create 2 lists from a given list where \n",
    "1st list will contain all the odd numbers from the original list and\n",
    "the 2nd one will contain all the even numbers\n",
    "L = [1,2,3,4,5,6]"
   ]
  },
  {
   "cell_type": "code",
   "execution_count": 3,
   "id": "f71ff243-f635-4b99-99cb-c1d876638591",
   "metadata": {},
   "outputs": [
    {
     "name": "stdout",
     "output_type": "stream",
     "text": [
      "Even lists: [2, 4 , 6]\n",
      "Odd lists: [1, 3, 5 ]\n"
     ]
    }
   ],
   "source": [
    "def Split(L):\n",
    "    even_list = []\n",
    "    odd_list = []\n",
    "    for i in L:\n",
    "        if (i % 2 == 0):\n",
    "            even_list.append(i)\n",
    "        else:\n",
    "            odd_list.append(i)\n",
    "    print(\"Even lists:\", even_list)\n",
    "    print(\"Odd lists:\", odd_list)\n",
    "L = [1,2,3,4,5,6]\n",
    "Split(L)"
   ]
  },
  {
   "cell_type": "markdown",
   "id": "a7b41a64-ac0c-4b36-8ff7-b9f676885e42",
   "metadata": {},
   "source": [
    "### Q 2 How to take list as input from user"
   ]
  },
  {
   "cell_type": "code",
   "execution_count": 34,
   "id": "b0884204-9111-436a-a885-185c777aab25",
   "metadata": {},
   "outputs": [
    {
     "name": "stdin",
     "output_type": "stream",
     "text": [
      "Enter elements of the list :  1 2 3 4\n"
     ]
    },
    {
     "name": "stdout",
     "output_type": "stream",
     "text": [
      "List: [1, 2, 3, 4]\n"
     ]
    }
   ],
   "source": [
    "input = input(\"Enter elements of the list : \")   \n",
    "list = input.split()  \n",
    "list = [int(num) for num in list]  \n",
    "print(\"List:\",list)  "
   ]
  },
  {
   "cell_type": "markdown",
   "id": "b3582491-c302-4cc2-9fa9-f89ad9964f77",
   "metadata": {},
   "source": [
    "### Q 3  Write a program to merge 2 list without using the + operator\n",
    "L1 = [1,2,3,4]\n",
    "L2 = [5,6,7,8]"
   ]
  },
  {
   "cell_type": "code",
   "execution_count": 10,
   "id": "be5e7ff6-6fa8-4f23-bc42-7ea16afcf301",
   "metadata": {},
   "outputs": [
    {
     "name": "stdout",
     "output_type": "stream",
     "text": [
      "['15', '26', '37', '48']\n"
     ]
    }
   ],
   "source": [
    "L1 = [1,2,3,4]\n",
    "L2 = [5,6,7,8]\n",
    "\n",
    "result = []\n",
    "for i,j in zip(L1,L2):\n",
    "    result.append(str(i)+str(j))\n",
    "        \n",
    "print(result)"
   ]
  },
  {
   "cell_type": "markdown",
   "id": "0855f677-076e-419e-936d-8c562acf34a4",
   "metadata": {},
   "source": [
    "### Q 4 Write a program to replace an item with a different item if found in the list \n",
    "L = [1,2,3,4,5,3]\n",
    " replace 3 with 300"
   ]
  },
  {
   "cell_type": "code",
   "execution_count": 14,
   "id": "fc2407a2-4876-4193-b3b7-cac9db4c8f56",
   "metadata": {},
   "outputs": [
    {
     "name": "stdout",
     "output_type": "stream",
     "text": [
      "[1, 2, 300, 4, 5, 300]\n"
     ]
    }
   ],
   "source": [
    "L= [1,2,3,4,5,3]\n",
    "for i in range(len(L)):\n",
    "    if l[i] == 3:\n",
    "        l[i] = 300\n",
    "print(l)"
   ]
  },
  {
   "cell_type": "markdown",
   "id": "2aebe8f6-d50e-4748-8af4-a017fc769384",
   "metadata": {},
   "source": [
    "### Q 5 Write a program that can convert a 2D list to 1D list"
   ]
  },
  {
   "cell_type": "code",
   "execution_count": 15,
   "id": "6a7cd5d0-5746-493a-9778-2e6148e4e721",
   "metadata": {},
   "outputs": [
    {
     "name": "stdout",
     "output_type": "stream",
     "text": [
      "initial list  [[1, 2, 3], [3, 6, 7], [7, 5, 4]]\n",
      "final_result [1, 2, 3, 3, 6, 7, 7, 5, 4]\n"
     ]
    }
   ],
   "source": [
    "from itertools import chain\n",
    " \n",
    "ini_list = [[1, 2, 3],\n",
    "            [3, 6, 7],\n",
    "            [7, 5, 4]]\n",
    "             \n",
    "print (\"initial list \", str(ini_list))\n",
    " \n",
    "flatten_list = [j for sub in ini_list for j in sub]\n",
    " \n",
    "print (\"final_result\", str(flatten_list))"
   ]
  },
  {
   "cell_type": "markdown",
   "id": "b8ad0fe1-6e7e-498c-ba54-2843a7a7ec1a",
   "metadata": {},
   "source": [
    "### Q 6  Write a program to remove duplicate items from a list\n",
    "\n",
    "L = [1,2,1,2,3,4,5,3,4]"
   ]
  },
  {
   "cell_type": "code",
   "execution_count": 25,
   "id": "0a182013-f2e5-4210-a93e-5188d55aae75",
   "metadata": {},
   "outputs": [
    {
     "name": "stdout",
     "output_type": "stream",
     "text": [
      "[1, 2, 3, 4, 5]\n"
     ]
    }
   ],
   "source": [
    "L=[1,2,1,2,3,4,5,3,4]\n",
    "mylist=[L[i]for i in range(len(L)) if L.index(L[i]) == i]\n",
    "print(mylist)"
   ]
  },
  {
   "cell_type": "markdown",
   "id": "1c78f2c4-2caf-492f-9dc5-57d143bce055",
   "metadata": {},
   "source": [
    "### Q 7  Write a program to check if a list is in ascending order or not"
   ]
  },
  {
   "cell_type": "code",
   "execution_count": 9,
   "id": "b1a8debb-7b46-4be5-9c63-810c919d20cc",
   "metadata": {},
   "outputs": [
    {
     "name": "stdout",
     "output_type": "stream",
     "text": [
      "Original list : [1, 4, 5, 8, 7]\n",
      "No, List is not sorted.\n"
     ]
    }
   ],
   "source": [
    "L = [1, 4, 5, 8, 7]\n",
    " \n",
    "print (\"Original list : \" + str(L))\n",
    " \n",
    "list = 0\n",
    "if(L == sorted(L)):\n",
    "    list = 1\n",
    "     \n",
    "if (list) :\n",
    "    print (\"Yes, List is sorted.\")\n",
    "else :\n",
    "    print (\"No, List is not sorted.\")"
   ]
  }
 ],
 "metadata": {
  "kernelspec": {
   "display_name": "Python 3 (ipykernel)",
   "language": "python",
   "name": "python3"
  },
  "language_info": {
   "codemirror_mode": {
    "name": "ipython",
    "version": 3
   },
   "file_extension": ".py",
   "mimetype": "text/x-python",
   "name": "python",
   "nbconvert_exporter": "python",
   "pygments_lexer": "ipython3",
   "version": "3.11.7"
  }
 },
 "nbformat": 4,
 "nbformat_minor": 5
}
