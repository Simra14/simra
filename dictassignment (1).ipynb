{
 "cells": [
  {
   "cell_type": "markdown",
   "id": "571a78c5-57c6-4f67-b17e-ccf6dd14fa59",
   "metadata": {},
   "source": [
    "### Q1: Key with maximum unique values\n",
    "Given a dictionary with values list, extract key whose value has most unique values.\n",
    "\n",
    "Example 1:\n",
    "\n",
    "Input:\n",
    "\n",
    "test_dict = {\"CampusX\" : [5, 7, 9, 4, 0], \"is\" : [6, 7, 4, 3, 3], \"Best\" : [9, 9, 6, 5, 5]}\n",
    "Output:\n",
    "\n",
    "CampusX"
   ]
  },
  {
   "cell_type": "code",
   "execution_count": 1,
   "id": "4c14a010-ed42-4f75-8ef4-1b4d29755cc5",
   "metadata": {},
   "outputs": [
    {
     "name": "stdout",
     "output_type": "stream",
     "text": [
      "CampusX\n"
     ]
    }
   ],
   "source": [
    "def key_with_max_unique_values(test_dict):\n",
    "    max_unique_values = 0\n",
    "    key_with_max_unique_values = \"\"\n",
    "    for key, value in test_dict.items():\n",
    "        unique_values = len(set(value))\n",
    "        if unique_values > max_unique_values:\n",
    "            max_unique_values = unique_values\n",
    "            key_with_max_unique_values = key\n",
    "    return key_with_max_unique_values\n",
    "\n",
    "test_dict = {\"CampusX\" : [5, 7, 9, 4, 0], \"is\" : [6, 7, 4, 3, 3], \"Best\" : [9, 9, 6, 5, 5]}\n",
    "print(key_with_max_unique_values(test_dict))"
   ]
  },
  {
   "cell_type": "markdown",
   "id": "bc7b1c1f-4851-4862-9189-c1b589da663a",
   "metadata": {},
   "source": [
    "### Example 2:\n",
    "\n",
    "Input:\n",
    "\n",
    "test_dict = {\"CampusX\" : [5, 7, 7, 7, 7], \"is\" : [6, 7, 7, 7], \"Best\" : [9, 9, 6, 5, 5]}\n",
    "Output:\n",
    "\n",
    "Best"
   ]
  },
  {
   "cell_type": "code",
   "execution_count": 2,
   "id": "bff8daac-6fed-4d5b-8b0d-228a53e85599",
   "metadata": {},
   "outputs": [
    {
     "name": "stdout",
     "output_type": "stream",
     "text": [
      "Best\n"
     ]
    }
   ],
   "source": [
    "def key_with_max_unique_values(test_dict):\n",
    "    max_unique_values = 0\n",
    "    key_with_max_unique_values = \"\"\n",
    "    for key, value in test_dict.items():\n",
    "        unique_values = len(set(value))\n",
    "        if unique_values > max_unique_values:\n",
    "            max_unique_values = unique_values\n",
    "            key_with_max_unique_values = key\n",
    "        elif unique_values == max_unique_values:\n",
    "            key_with_max_unique_values += \", \" + key\n",
    "    return key_with_max_unique_values\n",
    "\n",
    "test_dict = {\"CampusX\" : [5, 7, 7, 7, 7], \"is\" : [6, 7, 7, 7], \"Best\" : [9, 9, 6, 5, 5]}\n",
    "print(key_with_max_unique_values(test_dict))"
   ]
  },
  {
   "cell_type": "markdown",
   "id": "43ecb00c-7838-441c-ab31-9ae7c83d3e3f",
   "metadata": {},
   "source": [
    "### Q2: Replace words from Dictionary. Given String, replace it’s words from lookup dictionary.\n",
    "Example 1:\n",
    "\n",
    "Input:\n",
    "\n",
    "test_str = 'CampusX best for DS students.'\n",
    "repl_dict = {\"best\" : \"is the best channel\", \"DS\" : \"Data-Science\"}\n",
    "Output:\n",
    "\n",
    "CampusX is the best channel for Data-Science students."
   ]
  },
  {
   "cell_type": "code",
   "execution_count": 16,
   "id": "62dbedea-be79-4d2d-8da4-256da4fb0cc6",
   "metadata": {},
   "outputs": [
    {
     "name": "stdout",
     "output_type": "stream",
     "text": [
      "campusx best for Data-Science students.\n"
     ]
    }
   ],
   "source": [
    "def replace_words(test_str, repl_dict):\n",
    "    for key, value in repl_dict.items():\n",
    "        test_str = test_str.lower().replace(key, value)\n",
    "    return test_str\n",
    "\n",
    "test_str = 'CampusX best for DS students.'\n",
    "repl_dict = {\"good\" : \"is the best channel\", \"ds\" : \"Data-Science\"}\n",
    "print(replace_words(test_str, repl_dict)) \n",
    "\n",
    "def replace_words(test_str, repl_dict):\n",
    "    words = test_str.split()\n",
    "    for i in range(len(words)):\n",
    "        if words[i].lower() in repl_dict:\n",
    "            words[i] = repl_dict[words[i].lower()]\n",
    "    return ' '.join(words)"
   ]
  },
  {
   "cell_type": "markdown",
   "id": "c16d96da-e817-4b28-bacd-c9eef3d2610b",
   "metadata": {},
   "source": [
    "### Example 2:\n",
    "\n",
    "Input:\n",
    "\n",
    "test_str = 'CampusX best for DS students.'\n",
    "repl_dict = {\"good\" : \"is the best channel\", \"ds\" : \"Data-Science\"}\n",
    "Output:\n",
    "\n",
    "CampusX best for DS students."
   ]
  },
  {
   "cell_type": "code",
   "execution_count": 15,
   "id": "6ad95ebd-5e16-439b-be89-298b3bca6ee8",
   "metadata": {},
   "outputs": [
    {
     "name": "stdout",
     "output_type": "stream",
     "text": [
      "CampusX is the best channel for DS students.\n"
     ]
    }
   ],
   "source": [
    "def replace_words(test_str, repl_dict):\n",
    "    words = test_str.split()\n",
    "    for i in range(len(words)):\n",
    "        if words[i].lower() in repl_dict:\n",
    "            words[i] = repl_dict[words[i].lower()]\n",
    "    return ' '.join(words)\n",
    "\n",
    "test_str = 'CampusX best for DS students.'\n",
    "repl_dict = {\"best\" : \"is the best channel\", \"DS\" : \"Data-Science\"}\n",
    "print(replace_words(test_str, repl_dict)) \n",
    "\n"
   ]
  },
  {
   "cell_type": "markdown",
   "id": "1ff23d6e-fbc5-4f0f-99dc-88a044855aef",
   "metadata": {},
   "source": [
    "### Q3: Convert List to List of dictionaries. Given list values and keys list, convert these values to key value pairs in form of list of dictionaries.\n",
    "Example 1:\n",
    "\n",
    "Input:\n",
    "\n",
    "test_list = [\"DataScience\", 3, \"is\", 8]\n",
    "key_list = [\"name\", \"id\"]\n",
    "Output:\n",
    "\n",
    "[{'name': 'DataScience', 'id': 3}, {'name': 'is', 'id': 8}]"
   ]
  },
  {
   "cell_type": "code",
   "execution_count": 7,
   "id": "1de89afd-079b-45a7-ae2f-1d7225519c49",
   "metadata": {},
   "outputs": [
    {
     "name": "stdout",
     "output_type": "stream",
     "text": [
      "[{'name': 'DataScience', 'id': 3}, {'name': 'is', 'id': 8}]\n"
     ]
    }
   ],
   "source": [
    "def list_to_dict_list(test_list, key_list):\n",
    "    dict_list = []\n",
    "    for i in range(0, len(test_list), len(key_list)):\n",
    "        dict_list.append(dict(zip(key_list, test_list[i:i+len(key_list)])))\n",
    "    return dict_list\n",
    "\n",
    "test_list = [\"DataScience\", 3, \"is\", 8]\n",
    "key_list = [\"name\", \"id\"]\n",
    "print(list_to_dict_list(test_list, key_list)) \n"
   ]
  },
  {
   "cell_type": "markdown",
   "id": "31f5388b-c26b-4a68-8b58-52d697ac592a",
   "metadata": {},
   "source": [
    "### Example 2:\n",
    "\n",
    "Input:\n",
    "\n",
    "test_list = [\"CampusX\", 10]\n",
    "key_list = [\"name\", \"id\"]\n",
    "Output:\n",
    "\n",
    "[{'name': 'CampusX', 'id': 10}]"
   ]
  },
  {
   "cell_type": "code",
   "execution_count": 8,
   "id": "123567bb-59de-446a-b892-c6330047779e",
   "metadata": {},
   "outputs": [
    {
     "name": "stdout",
     "output_type": "stream",
     "text": [
      "[{'name': 'CampusX', 'id': 10}]\n"
     ]
    }
   ],
   "source": [
    "def list_to_dict_list(test_list, key_list):\n",
    "    return [dict(zip(key_list, test_list))]\n",
    "\n",
    "test_list = [\"CampusX\", 10]\n",
    "key_list = [\"name\", \"id\"]\n",
    "print(list_to_dict_list(test_list, key_list)) \n"
   ]
  },
  {
   "cell_type": "markdown",
   "id": "9d5d5efd-c1fb-435a-b475-da198cb6b287",
   "metadata": {},
   "source": [
    "### Q4: Convert a list of Tuples into Dictionary.\n",
    "Example 1:\n",
    "\n",
    "Input:\n",
    "\n",
    "[(\"akash\", 10), (\"gaurav\", 12), (\"anand\", 14), (\"suraj\", 20), (\"akhil\", 25), (\"ashish\", 30)]\n",
    "Output:\n",
    "\n",
    "{'akash': [10], 'gaurav': [12], 'anand': [14], 'suraj': [20], 'akhil': [25], 'ashish': [30]}"
   ]
  },
  {
   "cell_type": "code",
   "execution_count": 10,
   "id": "575c032c-e49b-44bf-be09-f3e456a49b7d",
   "metadata": {},
   "outputs": [
    {
     "name": "stdout",
     "output_type": "stream",
     "text": [
      "{'akash': [10], 'gaurav': [12], 'anand': [14], 'suraj': [20], 'akhil': [25], 'ashish': [30]}\n"
     ]
    }
   ],
   "source": [
    "\n",
    "def tuples_to_dict(tuples_list):\n",
    "    result_dict = {}\n",
    "    for tuple in tuples_list:\n",
    "        if tuple[0] in result_dict:\n",
    "            result_dict[tuple[0]].append(tuple[1])\n",
    "        else:\n",
    "            result_dict[tuple[0]] = [tuple[1]]\n",
    "    return result_dict\n",
    "\n",
    "tuples_list = [(\"akash\", 10), (\"gaurav\", 12), (\"anand\", 14), (\"suraj\", 20), (\"akhil\", 25), (\"ashish\", 30)]\n",
    "print(tuples_to_dict(tuples_list)) "
   ]
  },
  {
   "cell_type": "markdown",
   "id": "cfcbfe1b-c52e-42db-bb89-e727bdd2d1f7",
   "metadata": {},
   "source": [
    "### Example 2:\n",
    "\n",
    "Input:\n",
    "\n",
    "[('A', 1), ('B', 2), ('C', 3)]\n",
    "Output:\n",
    "\n",
    "{'A': [1], 'B': [2], 'C': [3]}"
   ]
  },
  {
   "cell_type": "code",
   "execution_count": 11,
   "id": "88cc4ea9-b29b-492b-b3e0-79ce373908ca",
   "metadata": {},
   "outputs": [
    {
     "name": "stdout",
     "output_type": "stream",
     "text": [
      "{'A': [1], 'B': [2], 'C': [3]}\n"
     ]
    }
   ],
   "source": [
    "def tuples_to_dict(tuples_list):\n",
    "    return {key: [value] for key, value in tuples_list}\n",
    "\n",
    "tuples_list = [('A', 1), ('B', 2), ('C', 3)]\n",
    "print(tuples_to_dict(tuples_list)) "
   ]
  },
  {
   "cell_type": "markdown",
   "id": "9e7a6dcb-1fc5-486b-b38d-0ce98d1eef7d",
   "metadata": {},
   "source": [
    "### Q5: Sort Dictionary key and values List.\n",
    "Example 1:\n",
    "\n",
    "Input:\n",
    "\n",
    "{'c': [3], 'b': [12, 10], 'a': [19, 4]}\n",
    "Output:\n",
    "\n",
    "{'a': [4, 19], 'b': [10, 12], 'c': [3]}"
   ]
  },
  {
   "cell_type": "code",
   "execution_count": 13,
   "id": "c0666a95-8cdb-436c-9e30-fa8b9f332c1b",
   "metadata": {},
   "outputs": [
    {
     "name": "stdout",
     "output_type": "stream",
     "text": [
      "{'a': [4, 19], 'b': [10, 12], 'c': [3]}\n"
     ]
    }
   ],
   "source": [
    "def sort_dict_key_and_values(input_dict):\n",
    "    return {key: sorted(values) for key, values in sorted(input_dict.items())}\n",
    "\n",
    "input_dict = {'c': [3], 'b': [12, 10], 'a': [19, 4]}\n",
    "print(sort_dict_key_and_values(input_dict)) "
   ]
  },
  {
   "cell_type": "markdown",
   "id": "3147f650-75f4-4399-bf1a-8883b329b4a4",
   "metadata": {},
   "source": [
    "### Example 2:\n",
    "\n",
    "Input:\n",
    "\n",
    "{'c': [10, 34, 3]}\n",
    "Output:\n",
    "\n",
    "{'c': [3, 10, 34]}"
   ]
  },
  {
   "cell_type": "code",
   "execution_count": 14,
   "id": "172d48fd-3ab9-4ace-b498-7a2ba11b1e14",
   "metadata": {},
   "outputs": [
    {
     "name": "stdout",
     "output_type": "stream",
     "text": [
      "{'c': [3, 10, 34]}\n"
     ]
    }
   ],
   "source": [
    "def sort_dict_values(input_dict):\n",
    "    return {key: sorted(values) for key, values in input_dict.items()}\n",
    "\n",
    "input_dict = {'c': [10, 34, 3]}\n",
    "print(sort_dict_values(input_dict)) "
   ]
  },
  {
   "cell_type": "code",
   "execution_count": null,
   "id": "6017ffbd-428e-4338-a7cf-dd04e1a94470",
   "metadata": {},
   "outputs": [],
   "source": []
  }
 ],
 "metadata": {
  "kernelspec": {
   "display_name": "Python 3 (ipykernel)",
   "language": "python",
   "name": "python3"
  },
  "language_info": {
   "codemirror_mode": {
    "name": "ipython",
    "version": 3
   },
   "file_extension": ".py",
   "mimetype": "text/x-python",
   "name": "python",
   "nbconvert_exporter": "python",
   "pygments_lexer": "ipython3",
   "version": "3.11.7"
  }
 },
 "nbformat": 4,
 "nbformat_minor": 5
}
