{
 "cells": [
  {
   "cell_type": "markdown",
   "id": "ebfe9c49-61b8-44c5-a9ea-fdcf3a3b2e9a",
   "metadata": {},
   "source": [
    "### Q1: Join Tuples if similar initial element\n",
    "While working with Python tuples, we can have a problem in which we need to perform concatenation of records from the similarity of initial element. This problem can have applications in data domains such as Data Science.\n",
    "\n",
    "For eg.\n",
    "\n",
    "Input  : test_list = [(5, 6), (5, 7), (5, 8), (6, 10), (7, 13)] \n",
    "Output : [(5, 6, 7, 8), (6, 10), (7, 13)] "
   ]
  },
  {
   "cell_type": "code",
   "execution_count": 9,
   "id": "3d6d5fbc-feec-49db-b7d6-983347392f25",
   "metadata": {},
   "outputs": [
    {
     "name": "stdout",
     "output_type": "stream",
     "text": [
      "The original list is : [(5, 6), (5, 7), (5, 8), (6, 10), (7, 13)]\n",
      "The extracted elements : [(7, 13)]\n"
     ]
    }
   ],
   "source": [
    "test_list = [(5, 6), (5, 7), (5, 8), (6, 10), (7, 13)]\n",
    "print(\"The original list is : \" + str(test_list))\n",
    "output_list = []\n",
    "for sub in test_list:\n",
    "    if output_list and output_list[-1][0] == sub[0]:\n",
    "        output_list[-1].extend(sub[1:])\n",
    "\n",
    "else:\n",
    "    output_list.append([ele for ele in sub])\n",
    "output_list = list(map(tuple, output_list))\n",
    "print(\"The extracted elements : \"+ str(output_list))"
   ]
  },
  {
   "cell_type": "markdown",
   "id": "31b38303-710a-4477-9279-6e93c921841e",
   "metadata": {},
   "source": [
    "### Q2: Multiply Adjacent elements (both side) and take sum of right and lest side multiplication result.\n",
    "For eg.\n",
    "\n",
    "The original tuple : (1, 5, 7, 8, 10)\n",
    "Resultant tuple after multiplication : \n",
    "\n",
    "(1*5, 1*5+5*7, 7*5 + 7*8, 8*7 + 8*10, 10*8) -> (5, 40, 91, 136, 80)\n",
    "\n",
    "output-(5, 40, 91, 136, 80)"
   ]
  },
  {
   "cell_type": "code",
   "execution_count": 1,
   "id": "941c8cab-8fb5-428f-a9b9-ed0f49aa1162",
   "metadata": {},
   "outputs": [
    {
     "name": "stdout",
     "output_type": "stream",
     "text": [
      "(5, 40, 91, 136, 90)\n"
     ]
    }
   ],
   "source": [
    "def multiply_adjacent_elements(tup):\n",
    "    result = []\n",
    "    for i in range(len(tup)):\n",
    "        left = tup[i-1] * tup[i] if i > 0 else 0\n",
    "        right = tup[i] * tup[(i+1) % len(tup)]\n",
    "        result.append(left + right)\n",
    "    return tuple(result)\n",
    "\n",
    "tup = (1, 5, 7, 8, 10)\n",
    "print(multiply_adjacent_elements(tup)) \n"
   ]
  },
  {
   "cell_type": "markdown",
   "id": "37da9717-17f6-4250-86be-89d2af856d23",
   "metadata": {},
   "source": [
    "### Q3: Check is tuples are same or not?\n",
    "Two tuples would be same if both tuples have same element at same index\n",
    "\n",
    "t1 = (1,2,3,0)\n",
    "t2 = (0,1,2,3)\n",
    "\n",
    "t1 and t2 are not same"
   ]
  },
  {
   "cell_type": "code",
   "execution_count": 29,
   "id": "62634d0f-d748-4f2f-aca6-5d367b1be071",
   "metadata": {},
   "outputs": [
    {
     "name": "stdout",
     "output_type": "stream",
     "text": [
      "Tuple are not same.\n"
     ]
    }
   ],
   "source": [
    "t1 = (1,2,3,0)\n",
    "t2 = (0,1,2,3)\n",
    "if t1 == t2:\n",
    "    print(\"Tuple are same.\")\n",
    "else:\n",
    "    print(\"Tuple are not same.\")\n"
   ]
  },
  {
   "cell_type": "markdown",
   "id": "0ac87666-0037-485f-8ada-667022b3cb03",
   "metadata": {},
   "source": [
    "#Q4: Count no of tuples, list and set from a list\n",
    "list1 = [{'hi', 'bye'},{'Geeks', 'forGeeks'},('a', 'b'),['hi', 'bye'],['a', 'b']]\n",
    "Output:\n",
    "\n",
    "List-2\n",
    "Set-2\n",
    "Tuples-1"
   ]
  },
  {
   "cell_type": "code",
   "execution_count": 2,
   "id": "feebca84-fc11-493e-b2f2-85d4ae30b79b",
   "metadata": {},
   "outputs": [
    {
     "name": "stdout",
     "output_type": "stream",
     "text": [
      "List-2 Set-2 Tuples-1\n"
     ]
    }
   ],
   "source": [
    "list1 = [{'hi', 'bye'},{'Geeks', 'forGeeks'},('a', 'b'),['hi', 'bye'],['a', 'b']]\n",
    "\n",
    "count_list = 0\n",
    "count_set = 0\n",
    "count_tuple = 0\n",
    "\n",
    "for item in list1:\n",
    "    if isinstance(item, list):\n",
    "        count_list += 1\n",
    "    elif isinstance(item, set):\n",
    "        count_set += 1\n",
    "    elif isinstance(item, tuple):\n",
    "        count_tuple += 1\n",
    "\n",
    "print(f\"List-{count_list} Set-{count_set} Tuples-{count_tuple}\")"
   ]
  },
  {
   "cell_type": "markdown",
   "id": "fb49d9f9-e3a2-4f21-9df9-73f3f6c7c0b0",
   "metadata": {},
   "source": [
    "### Q5: Shortlist Students for a Job role\n",
    "Ask user to input students record and store in tuples for each record. Then Ask user to input three things he wants in the candidate- Primary Skill, Higher Education, Year of Graduation.\n",
    "\n",
    "Show every students record in form of tuples if matches all required criteria.\n",
    "\n",
    "It is assumed that there will be only one primry skill.\n",
    "\n",
    "If no such candidate found, print No such candidate\n",
    "\n",
    "Input:\n",
    "\n",
    "Enter No of records- 2\n",
    "Enter Details of student-1\n",
    "Enter Student name- Manohar\n",
    "Enter Higher Education- B.Tech\n",
    "Enter Primary Skill- Python\n",
    "Enter Year of Graduation- 2022\n",
    "Enter Details of student-2\n",
    "Enter Student name- Ponian\n",
    "Enter Higher Education- B.Sc.\n",
    "Enter Primary Skill- C++\n",
    "Enter Year of Graduation- 2020\n",
    "\n",
    "Enter Job Role Requirement\n",
    "Enter Skill- Python\n",
    "Enter Higher Education- B.Tech\n",
    "Enter Year of Graduation- 2022\n",
    "Output\n",
    "\n",
    "('Manohar', 'B.tech', 'Python', '2022')"
   ]
  },
  {
   "cell_type": "code",
   "execution_count": 3,
   "id": "af74da05-9d00-4b58-8cdd-edec54fcc294",
   "metadata": {},
   "outputs": [
    {
     "name": "stdin",
     "output_type": "stream",
     "text": [
      "Enter No of records:  1\n",
      "Enter Details of student-1\n",
      "Enter Student name-  poinan\n",
      "Enter Higher Education-  bsc\n",
      "Enter Primary Skill-  c++\n",
      "Enter Year of Graduation-  2022\n"
     ]
    },
    {
     "name": "stdout",
     "output_type": "stream",
     "text": [
      "\n",
      "Enter Job Role Requirement\n"
     ]
    },
    {
     "name": "stdin",
     "output_type": "stream",
     "text": [
      "Enter Skill-  \n",
      "Enter Higher Education-  \n",
      "Enter Year of Graduation-  \n"
     ]
    },
    {
     "name": "stdout",
     "output_type": "stream",
     "text": [
      "No such candidate\n"
     ]
    }
   ],
   "source": [
    "def shortlist_students():\n",
    "    num_records = int(input(\"Enter No of records: \"))\n",
    "    students = []\n",
    "    for i in range(num_records):\n",
    "        name = input(f\"Enter Details of student-{i+1}\\nEnter Student name- \")\n",
    "        higher_edu = input(\"Enter Higher Education- \")\n",
    "        primary_skill = input(\"Enter Primary Skill- \")\n",
    "        year_grad = input(\"Enter Year of Graduation- \")\n",
    "        students.append((name, higher_edu, primary_skill, year_grad))\n",
    "\n",
    "    print(\"\\nEnter Job Role Requirement\")\n",
    "    required_skill = input(\"Enter Skill- \")\n",
    "    required_higher_edu = input(\"Enter Higher Education- \")\n",
    "    required_year_grad = input(\"Enter Year of Graduation- \")\n",
    "\n",
    "    shortlisted_students = [student for student in students if student[2] == required_skill and student[1] == required_higher_edu and student[3] == required_year_grad]\n",
    "\n",
    "    if shortlisted_students:\n",
    "        for student in shortlisted_students:\n",
    "            print(student)\n",
    "    else:\n",
    "        print(\"No such candidate\")\n",
    "\n",
    "shortlist_students()"
   ]
  },
  {
   "cell_type": "code",
   "execution_count": null,
   "id": "1b6fe8e3-e326-421a-94f4-968ba8fef40c",
   "metadata": {},
   "outputs": [],
   "source": []
  }
 ],
 "metadata": {
  "kernelspec": {
   "display_name": "Python 3 (ipykernel)",
   "language": "python",
   "name": "python3"
  },
  "language_info": {
   "codemirror_mode": {
    "name": "ipython",
    "version": 3
   },
   "file_extension": ".py",
   "mimetype": "text/x-python",
   "name": "python",
   "nbconvert_exporter": "python",
   "pygments_lexer": "ipython3",
   "version": "3.11.7"
  }
 },
 "nbformat": 4,
 "nbformat_minor": 5
}
